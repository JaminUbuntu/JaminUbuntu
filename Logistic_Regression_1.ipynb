{
  "nbformat": 4,
  "nbformat_minor": 0,
  "metadata": {
    "colab": {
      "provenance": [],
      "authorship_tag": "ABX9TyOrAxHC7lTyZUlPEfil2zOo",
      "include_colab_link": true
    },
    "kernelspec": {
      "name": "python3",
      "display_name": "Python 3"
    },
    "language_info": {
      "name": "python"
    }
  },
  "cells": [
    {
      "cell_type": "markdown",
      "metadata": {
        "id": "view-in-github",
        "colab_type": "text"
      },
      "source": [
        "<a href=\"https://colab.research.google.com/github/JaminUbuntu/JaminUbuntu/blob/main/Logistic_Regression_1.ipynb\" target=\"_parent\"><img src=\"https://colab.research.google.com/assets/colab-badge.svg\" alt=\"Open In Colab\"/></a>"
      ]
    },
    {
      "cell_type": "code",
      "source": [
        "!pip install pyspark py4j"
      ],
      "metadata": {
        "colab": {
          "base_uri": "https://localhost:8080/"
        },
        "id": "h87iloANjo-T",
        "outputId": "ee85bee6-97b9-475d-cc63-66348a19a478"
      },
      "execution_count": 17,
      "outputs": [
        {
          "output_type": "stream",
          "name": "stdout",
          "text": [
            "Requirement already satisfied: pyspark in /usr/local/lib/python3.10/dist-packages (3.5.3)\n",
            "Requirement already satisfied: py4j in /usr/local/lib/python3.10/dist-packages (0.10.9.7)\n"
          ]
        }
      ]
    },
    {
      "cell_type": "code",
      "execution_count": 114,
      "metadata": {
        "id": "fLiDczcfewY-"
      },
      "outputs": [],
      "source": [
        "from pyspark.sql import SparkSession"
      ]
    },
    {
      "cell_type": "code",
      "source": [
        "spark = SparkSession.builder.appName(\"pyspark_test\").getOrCreate()"
      ],
      "metadata": {
        "id": "Jaw-L8eAfpyu"
      },
      "execution_count": 115,
      "outputs": []
    },
    {
      "cell_type": "code",
      "source": [
        "df = spark.read.csv(\"/content/live.csv\", header=True, inferSchema=True)"
      ],
      "metadata": {
        "id": "7IG0-zOaf7yk"
      },
      "execution_count": 116,
      "outputs": []
    },
    {
      "cell_type": "code",
      "source": [
        "df.printSchema()"
      ],
      "metadata": {
        "id": "eGokArSogOc3",
        "colab": {
          "base_uri": "https://localhost:8080/"
        },
        "outputId": "0e3e5172-66f2-48d3-9570-fd5a5a31b369"
      },
      "execution_count": 117,
      "outputs": [
        {
          "output_type": "stream",
          "name": "stdout",
          "text": [
            "root\n",
            " |-- num_reactions: double (nullable = true)\n",
            " |-- num_comments: double (nullable = true)\n",
            " |-- num_shares: double (nullable = true)\n",
            " |-- num_likes: double (nullable = true)\n",
            " |-- num_loves: double (nullable = true)\n",
            " |-- num_wows: double (nullable = true)\n",
            " |-- num_hahas: double (nullable = true)\n",
            " |-- num_sads: double (nullable = true)\n",
            " |-- num_angrys: double (nullable = true)\n",
            " |-- status_type_link: double (nullable = true)\n",
            " |-- status_type_photo: double (nullable = true)\n",
            " |-- status_type_status: double (nullable = true)\n",
            " |-- status_type_video: double (nullable = true)\n",
            "\n"
          ]
        }
      ]
    },
    {
      "cell_type": "code",
      "source": [
        "df.describe().show()"
      ],
      "metadata": {
        "colab": {
          "base_uri": "https://localhost:8080/"
        },
        "id": "R-ez4Uz-kPJ5",
        "outputId": "f232f061-53c9-412b-a72c-99ab891b42e4"
      },
      "execution_count": 118,
      "outputs": [
        {
          "output_type": "stream",
          "name": "stdout",
          "text": [
            "+-------+-------------------+--------------------+--------------------+--------------------+--------------------+--------------------+--------------------+--------------------+--------------------+--------------------+------------------+-------------------+-------------------+\n",
            "|summary|      num_reactions|        num_comments|          num_shares|           num_likes|           num_loves|            num_wows|           num_hahas|            num_sads|          num_angrys|    status_type_link| status_type_photo| status_type_status|  status_type_video|\n",
            "+-------+-------------------+--------------------+--------------------+--------------------+--------------------+--------------------+--------------------+--------------------+--------------------+--------------------+------------------+-------------------+-------------------+\n",
            "|  count|               7050|                7050|                7050|                7050|                7050|                7050|                7050|                7050|                7050|                7050|              7050|               7050|               7050|\n",
            "|   mean|0.04885714715935354|0.010688710260542779|0.011688829787234168|0.045656713496255545|0.019373900277427157|0.004637991734272...|0.004436012106428162|0.004778194965929634|0.003651338366506...|0.008936170212765958|0.6082269503546099|0.05177304964539007|0.33106382978723403|\n",
            "| stddev|0.09822193399898811| 0.04238384085369252|0.038434569360448624| 0.09542937517115552|0.060841598338806265| 0.03136564885029323|0.025204990082502116| 0.03131678312767332|0.023445544859874635| 0.09411467190513094|0.4881810438515914| 0.2215842175182504| 0.4706293527788745|\n",
            "|    min|                0.0|                 0.0|                 0.0|                 0.0|                 0.0|                 0.0|                 0.0|                 0.0|                 0.0|                 0.0|               0.0|                0.0|                0.0|\n",
            "|    max|                1.0|                 1.0|  0.9999999999999999|                 1.0|                 1.0|                 1.0|                 1.0|                 1.0|                 1.0|                 1.0|               1.0|                1.0|                1.0|\n",
            "+-------+-------------------+--------------------+--------------------+--------------------+--------------------+--------------------+--------------------+--------------------+--------------------+--------------------+------------------+-------------------+-------------------+\n",
            "\n"
          ]
        }
      ]
    },
    {
      "cell_type": "code",
      "source": [
        "df.columns"
      ],
      "metadata": {
        "colab": {
          "base_uri": "https://localhost:8080/"
        },
        "id": "is06fUl2rh7y",
        "outputId": "5769ba65-6d85-4008-fd1c-ebac34018190"
      },
      "execution_count": 119,
      "outputs": [
        {
          "output_type": "execute_result",
          "data": {
            "text/plain": [
              "['num_reactions',\n",
              " 'num_comments',\n",
              " 'num_shares',\n",
              " 'num_likes',\n",
              " 'num_loves',\n",
              " 'num_wows',\n",
              " 'num_hahas',\n",
              " 'num_sads',\n",
              " 'num_angrys',\n",
              " 'status_type_link',\n",
              " 'status_type_photo',\n",
              " 'status_type_status',\n",
              " 'status_type_video']"
            ]
          },
          "metadata": {},
          "execution_count": 119
        }
      ]
    },
    {
      "cell_type": "code",
      "source": [
        "from pyspark.ml.feature import VectorAssembler"
      ],
      "metadata": {
        "id": "hn_G8uypsKsR"
      },
      "execution_count": 120,
      "outputs": []
    },
    {
      "cell_type": "markdown",
      "source": [],
      "metadata": {
        "id": "Yh-8fxQdr8x2"
      }
    },
    {
      "cell_type": "code",
      "source": [
        " assembler = VectorAssembler(inputCols=[\n",
        "'num_reactions',\n",
        " 'num_comments',\n",
        " 'num_shares',\n",
        " 'num_likes',\n",
        " 'num_loves',\n",
        " 'num_wows',\n",
        " 'num_hahas',\n",
        " 'num_sads',\n",
        " 'num_angrys',\n",
        " 'status_type_link',\n",
        " 'status_type_photo',\n",
        " 'status_type_status',\n",
        " 'status_type_video'],\n",
        "  outputCol='features')"
      ],
      "metadata": {
        "id": "QyPnPCxGkX5p"
      },
      "execution_count": 123,
      "outputs": []
    },
    {
      "cell_type": "code",
      "source": [
        "output = assembler.transform(df)"
      ],
      "metadata": {
        "id": "MEEgYaV6llBd"
      },
      "execution_count": 124,
      "outputs": []
    },
    {
      "cell_type": "code",
      "source": [
        "df_final = output.select('features', 'status_type_video')"
      ],
      "metadata": {
        "id": "MBapenRwts_k"
      },
      "execution_count": 129,
      "outputs": []
    },
    {
      "cell_type": "code",
      "source": [
        "df_final.show()"
      ],
      "metadata": {
        "colab": {
          "base_uri": "https://localhost:8080/"
        },
        "id": "qgBfw3Um2Lyw",
        "outputId": "0373b3e1-1ee8-46de-9202-e9688c40f7e7"
      },
      "execution_count": 130,
      "outputs": [
        {
          "output_type": "stream",
          "name": "stdout",
          "text": [
            "+--------------------+-----------------+\n",
            "|            features|status_type_video|\n",
            "+--------------------+-----------------+\n",
            "|[0.11231422505307...|              1.0|\n",
            "|(13,[0,3,10],[0.0...|              0.0|\n",
            "|[0.04819532908704...|              1.0|\n",
            "|(13,[0,3,10],[0.0...|              0.0|\n",
            "|(13,[0,3,4,10],[0...|              0.0|\n",
            "|(13,[0,1,3,4,5,10...|              0.0|\n",
            "|[0.10679405520169...|              1.0|\n",
            "|[0.06263269639065...|              1.0|\n",
            "|(13,[0,1,3,4,10],...|              0.0|\n",
            "|(13,[0,1,2,3,4,10...|              0.0|\n",
            "|(13,[0,1,2,3,4,5,...|              0.0|\n",
            "|(13,[0,1,3,4,5,10...|              0.0|\n",
            "|(13,[0,1,2,3,4,5,...|              0.0|\n",
            "|(13,[0,1,3,4,5,10...|              0.0|\n",
            "|(13,[0,1,3,4,5,10...|              0.0|\n",
            "|[0.07048832271762...|              1.0|\n",
            "|(13,[0,1,2,3,4,12...|              1.0|\n",
            "|[0.03184713375796...|              1.0|\n",
            "|(13,[0,1,2,3,4,6,...|              1.0|\n",
            "|(13,[0,1,3,4,10],...|              0.0|\n",
            "+--------------------+-----------------+\n",
            "only showing top 20 rows\n",
            "\n"
          ]
        }
      ]
    },
    {
      "cell_type": "code",
      "source": [
        "train_data, test_data = df_final.randomSplit([0.7, 0.3])"
      ],
      "metadata": {
        "id": "y3y48EmLvZLO"
      },
      "execution_count": 131,
      "outputs": []
    },
    {
      "cell_type": "code",
      "source": [
        "train_data.describe().show()"
      ],
      "metadata": {
        "colab": {
          "base_uri": "https://localhost:8080/"
        },
        "id": "YTeYsK1qEfkZ",
        "outputId": "4fce11f1-a34b-4df9-d7e4-9b373be35eeb"
      },
      "execution_count": 148,
      "outputs": [
        {
          "output_type": "stream",
          "name": "stdout",
          "text": [
            "+-------+------------------+\n",
            "|summary| status_type_video|\n",
            "+-------+------------------+\n",
            "|  count|              4989|\n",
            "|   mean|0.3315293646021247|\n",
            "| stddev|0.4708100202523569|\n",
            "|    min|               0.0|\n",
            "|    max|               1.0|\n",
            "+-------+------------------+\n",
            "\n"
          ]
        }
      ]
    },
    {
      "cell_type": "code",
      "source": [
        "test_data.describe().show"
      ],
      "metadata": {
        "colab": {
          "base_uri": "https://localhost:8080/",
          "height": 186
        },
        "id": "DC57PynNElek",
        "outputId": "eeebb91b-c572-4273-8157-0f14a5038304"
      },
      "execution_count": 149,
      "outputs": [
        {
          "output_type": "execute_result",
          "data": {
            "text/plain": [
              "<bound method DataFrame.show of DataFrame[summary: string, status_type_video: string]>"
            ],
            "text/html": [
              "<div style=\"max-width:800px; border: 1px solid var(--colab-border-color);\"><style>\n",
              "      pre.function-repr-contents {\n",
              "        overflow-x: auto;\n",
              "        padding: 8px 12px;\n",
              "        max-height: 500px;\n",
              "      }\n",
              "\n",
              "      pre.function-repr-contents.function-repr-contents-collapsed {\n",
              "        cursor: pointer;\n",
              "        max-height: 100px;\n",
              "      }\n",
              "    </style>\n",
              "    <pre style=\"white-space: initial; background:\n",
              "         var(--colab-secondary-surface-color); padding: 8px 12px;\n",
              "         border-bottom: 1px solid var(--colab-border-color);\"><b>pyspark.sql.dataframe.DataFrame.show</b><br/>def show(n: int=20, truncate: Union[bool, int]=True, vertical: bool=False) -&gt; None</pre><pre class=\"function-repr-contents function-repr-contents-collapsed\" style=\"\"><a class=\"filepath\" style=\"display:none\" href=\"#\">/usr/local/lib/python3.10/dist-packages/pyspark/sql/dataframe.py</a>Prints the first ``n`` rows to the console.\n",
              "\n",
              ".. versionadded:: 1.3.0\n",
              "\n",
              ".. versionchanged:: 3.4.0\n",
              "    Supports Spark Connect.\n",
              "\n",
              "Parameters\n",
              "----------\n",
              "n : int, optional\n",
              "    Number of rows to show.\n",
              "truncate : bool or int, optional\n",
              "    If set to ``True``, truncate strings longer than 20 chars by default.\n",
              "    If set to a number greater than one, truncates long strings to length ``truncate``\n",
              "    and align cells right.\n",
              "vertical : bool, optional\n",
              "    If set to ``True``, print output rows vertically (one line\n",
              "    per column value).\n",
              "\n",
              "Examples\n",
              "--------\n",
              "&gt;&gt;&gt; df = spark.createDataFrame([\n",
              "...     (14, &quot;Tom&quot;), (23, &quot;Alice&quot;), (16, &quot;Bob&quot;)], [&quot;age&quot;, &quot;name&quot;])\n",
              "\n",
              "Show only top 2 rows.\n",
              "\n",
              "&gt;&gt;&gt; df.show(2)\n",
              "+---+-----+\n",
              "|age| name|\n",
              "+---+-----+\n",
              "| 14|  Tom|\n",
              "| 23|Alice|\n",
              "+---+-----+\n",
              "only showing top 2 rows\n",
              "\n",
              "Show :class:`DataFrame` where the maximum number of characters is 3.\n",
              "\n",
              "&gt;&gt;&gt; df.show(truncate=3)\n",
              "+---+----+\n",
              "|age|name|\n",
              "+---+----+\n",
              "| 14| Tom|\n",
              "| 23| Ali|\n",
              "| 16| Bob|\n",
              "+---+----+\n",
              "\n",
              "Show :class:`DataFrame` vertically.\n",
              "\n",
              "&gt;&gt;&gt; df.show(vertical=True)\n",
              "-RECORD 0-----\n",
              "age  | 14\n",
              "name | Tom\n",
              "-RECORD 1-----\n",
              "age  | 23\n",
              "name | Alice\n",
              "-RECORD 2-----\n",
              "age  | 16\n",
              "name | Bob</pre>\n",
              "      <script>\n",
              "      if (google.colab.kernel.accessAllowed && google.colab.files && google.colab.files.view) {\n",
              "        for (const element of document.querySelectorAll('.filepath')) {\n",
              "          element.style.display = 'block'\n",
              "          element.onclick = (event) => {\n",
              "            event.preventDefault();\n",
              "            event.stopPropagation();\n",
              "            google.colab.files.view(element.textContent, 887);\n",
              "          };\n",
              "        }\n",
              "      }\n",
              "      for (const element of document.querySelectorAll('.function-repr-contents')) {\n",
              "        element.onclick = (event) => {\n",
              "          event.preventDefault();\n",
              "          event.stopPropagation();\n",
              "          element.classList.toggle('function-repr-contents-collapsed');\n",
              "        };\n",
              "      }\n",
              "      </script>\n",
              "      </div>"
            ]
          },
          "metadata": {},
          "execution_count": 149
        }
      ]
    },
    {
      "cell_type": "code",
      "source": [
        "from pyspark.ml.classification import LogisticRegression"
      ],
      "metadata": {
        "id": "IVqTS3rjv90r"
      },
      "execution_count": 132,
      "outputs": []
    },
    {
      "cell_type": "code",
      "source": [
        "lr = LogisticRegression(featuresCol='features', labelCol='status_type_video')"
      ],
      "metadata": {
        "id": "36ql5-da2qKQ"
      },
      "execution_count": 133,
      "outputs": []
    },
    {
      "cell_type": "code",
      "source": [
        "lrModel = lr.fit(train_data)"
      ],
      "metadata": {
        "id": "3W-LPBmYwLQQ"
      },
      "execution_count": 134,
      "outputs": []
    },
    {
      "cell_type": "code",
      "source": [
        "lrModel"
      ],
      "metadata": {
        "colab": {
          "base_uri": "https://localhost:8080/"
        },
        "id": "eDCUqP3PAc4U",
        "outputId": "1e828b96-776f-4057-f723-fca8ed6d4c86"
      },
      "execution_count": 136,
      "outputs": [
        {
          "output_type": "execute_result",
          "data": {
            "text/plain": [
              "LogisticRegressionModel: uid=LogisticRegression_7aabaadfa551, numClasses=2, numFeatures=13"
            ]
          },
          "metadata": {},
          "execution_count": 136
        }
      ]
    },
    {
      "cell_type": "code",
      "source": [
        "lrModel.summary"
      ],
      "metadata": {
        "colab": {
          "base_uri": "https://localhost:8080/"
        },
        "id": "soPKUD-vArVf",
        "outputId": "f881b08c-53f4-4a63-b981-e60dbc1d7905"
      },
      "execution_count": 137,
      "outputs": [
        {
          "output_type": "execute_result",
          "data": {
            "text/plain": [
              "<pyspark.ml.classification.BinaryLogisticRegressionTrainingSummary at 0x7db8ec3151b0>"
            ]
          },
          "metadata": {},
          "execution_count": 137
        }
      ]
    },
    {
      "cell_type": "code",
      "source": [
        "lrModelSummary = lrModel.summary"
      ],
      "metadata": {
        "id": "e8q2u1Ou3FV7"
      },
      "execution_count": 135,
      "outputs": []
    },
    {
      "cell_type": "code",
      "source": [
        "lrModelSummary.predictions.show()"
      ],
      "metadata": {
        "colab": {
          "base_uri": "https://localhost:8080/"
        },
        "id": "w_dUqc6aAZGy",
        "outputId": "03324c07-b3aa-48c8-e54f-9f4cb3ec2179"
      },
      "execution_count": 138,
      "outputs": [
        {
          "output_type": "stream",
          "name": "stdout",
          "text": [
            "+--------------------+-----------------+--------------------+--------------------+----------+\n",
            "|            features|status_type_video|       rawPrediction|         probability|prediction|\n",
            "+--------------------+-----------------+--------------------+--------------------+----------+\n",
            "|(13,[0,1,2,3,4,5,...|              0.0|[18.5611378840036...|[0.99999999131039...|       0.0|\n",
            "|(13,[0,1,2,3,4,5,...|              0.0|[19.1688319224113...|[0.99999999526759...|       0.0|\n",
            "|(13,[0,1,2,3,4,5,...|              0.0|[19.1768821940297...|[0.99999999530553...|       0.0|\n",
            "|(13,[0,1,2,3,4,5,...|              0.0|[19.1718363762945...|[0.99999999528179...|       0.0|\n",
            "|(13,[0,1,2,3,4,5,...|              0.0|[19.1527066425845...|[0.99999999519066...|       0.0|\n",
            "|(13,[0,1,2,3,4,5,...|              0.0|[19.1876805404585...|[0.99999999535595...|       0.0|\n",
            "|(13,[0,1,2,3,4,5,...|              0.0|[19.1736641261717...|[0.99999999529040...|       0.0|\n",
            "|(13,[0,1,2,3,4,5,...|              0.0|[19.1700628440090...|[0.99999999527341...|       0.0|\n",
            "|(13,[0,1,2,3,4,5,...|              0.0|[19.1748943351795...|[0.99999999529619...|       0.0|\n",
            "|(13,[0,1,2,3,4,5,...|              0.0|[19.1593148452739...|[0.99999999522233...|       0.0|\n",
            "|(13,[0,1,2,3,4,5,...|              0.0|[19.1216843775360...|[0.99999999503912...|       0.0|\n",
            "|(13,[0,1,2,3,4,5,...|              0.0|[19.1501415776673...|[0.99999999517831...|       0.0|\n",
            "|(13,[0,1,2,3,4,5,...|              0.0|[19.1784604900730...|[0.99999999531294...|       0.0|\n",
            "|(13,[0,1,2,3,4,5,...|              0.0|[19.0900829493507...|[0.99999999487985...|       0.0|\n",
            "|(13,[0,1,2,3,4,5,...|              0.0|[19.1512271827590...|[0.99999999518354...|       0.0|\n",
            "|(13,[0,1,2,3,4,5,...|              0.0|[19.1649910894454...|[0.99999999524938...|       0.0|\n",
            "|(13,[0,1,2,3,4,5,...|              0.0|[19.1427119289293...|[0.99999999514235...|       0.0|\n",
            "|(13,[0,1,2,3,4,5,...|              0.0|[19.0475250228333...|[0.99999999465724...|       0.0|\n",
            "|(13,[0,1,2,3,4,5,...|              0.0|[19.1964737689267...|[0.99999999539661...|       0.0|\n",
            "|(13,[0,1,2,3,4,5,...|              0.0|[19.1847897371852...|[0.99999999534251...|       0.0|\n",
            "+--------------------+-----------------+--------------------+--------------------+----------+\n",
            "only showing top 20 rows\n",
            "\n"
          ]
        }
      ]
    },
    {
      "cell_type": "code",
      "source": [
        "lrModelSummary.predictions.describe().show()"
      ],
      "metadata": {
        "colab": {
          "base_uri": "https://localhost:8080/"
        },
        "id": "bg5NoP8JA7kI",
        "outputId": "244eb3e8-6b79-4668-c94b-eca90c2d103e"
      },
      "execution_count": 139,
      "outputs": [
        {
          "output_type": "stream",
          "name": "stdout",
          "text": [
            "+-------+------------------+------------------+\n",
            "|summary| status_type_video|        prediction|\n",
            "+-------+------------------+------------------+\n",
            "|  count|              4989|              4989|\n",
            "|   mean|0.3315293646021247|0.3315293646021247|\n",
            "| stddev|0.4708100202523569|0.4708100202523569|\n",
            "|    min|               0.0|               0.0|\n",
            "|    max|               1.0|               1.0|\n",
            "+-------+------------------+------------------+\n",
            "\n"
          ]
        }
      ]
    },
    {
      "cell_type": "code",
      "source": [
        "from pyspark.ml.evaluation import BinaryClassificationEvaluator"
      ],
      "metadata": {
        "id": "qSry1FedBbkc"
      },
      "execution_count": 140,
      "outputs": []
    },
    {
      "cell_type": "code",
      "source": [
        "pred_labels = lrModel.evaluate(test_data)"
      ],
      "metadata": {
        "id": "_NMFm6LlB0XH"
      },
      "execution_count": 141,
      "outputs": []
    },
    {
      "cell_type": "code",
      "source": [
        "pred_labels.predictions.show()"
      ],
      "metadata": {
        "colab": {
          "base_uri": "https://localhost:8080/"
        },
        "id": "fwR_hXmjB_QB",
        "outputId": "07511e06-bdab-4e6a-d7f9-2797be150a37"
      },
      "execution_count": 142,
      "outputs": [
        {
          "output_type": "stream",
          "name": "stdout",
          "text": [
            "+--------------------+-----------------+--------------------+--------------------+----------+\n",
            "|            features|status_type_video|       rawPrediction|         probability|prediction|\n",
            "+--------------------+-----------------+--------------------+--------------------+----------+\n",
            "|(13,[0,1,2,3,4,5,...|              0.0|[19.1019211636231...|[0.99999999494011...|       0.0|\n",
            "|(13,[0,1,2,3,4,5,...|              0.0|[19.1256065902346...|[0.99999999505854...|       0.0|\n",
            "|(13,[0,1,2,3,4,5,...|              0.0|[19.1651503807125...|[0.99999999525013...|       0.0|\n",
            "|(13,[0,1,2,3,4,5,...|              0.0|[19.1752245540562...|[0.99999999529774...|       0.0|\n",
            "|(13,[0,1,2,3,4,5,...|              0.0|[19.1522523576100...|[0.99999999518847...|       0.0|\n",
            "|(13,[0,1,2,3,4,5,...|              0.0|[19.1301360381755...|[0.99999999508087...|       0.0|\n",
            "|(13,[0,1,2,3,4,5,...|              0.0|[19.0646282867760...|[0.99999999474784...|       0.0|\n",
            "|(13,[0,1,2,3,4,5,...|              0.0|[19.1781933710965...|[0.99999999531168...|       0.0|\n",
            "|(13,[0,1,2,3,4,5,...|              0.0|[19.1707164559981...|[0.99999999527650...|       0.0|\n",
            "|(13,[0,1,2,3,4,5,...|              0.0|[19.2236327487883...|[0.99999999551995...|       0.0|\n",
            "|(13,[0,1,2,3,4,5,...|              0.0|[19.1749514270212...|[0.99999999529646...|       0.0|\n",
            "|(13,[0,1,2,3,4,5,...|              0.0|[19.1749514270212...|[0.99999999529646...|       0.0|\n",
            "|(13,[0,1,2,3,4,5,...|              0.0|[19.1452872034348...|[0.99999999515484...|       0.0|\n",
            "|(13,[0,1,2,3,4,5,...|              0.0|[19.1602965160538...|[0.99999999522702...|       0.0|\n",
            "|(13,[0,1,2,3,4,5,...|              0.0|[19.1765948616508...|[0.99999999530418...|       0.0|\n",
            "|(13,[0,1,2,3,4,5,...|              0.0|[19.1765948616508...|[0.99999999530418...|       0.0|\n",
            "|(13,[0,1,2,3,4,5,...|              0.0|[19.1306446402162...|[0.99999999508338...|       0.0|\n",
            "|(13,[0,1,2,3,4,5,...|              0.0|[19.1899279535477...|[0.99999999536638...|       0.0|\n",
            "|(13,[0,1,2,3,4,5,...|              0.0|[19.1557297766909...|[0.99999999520518...|       0.0|\n",
            "|(13,[0,1,2,3,4,5,...|              0.0|[19.1250482877575...|[0.99999999505578...|       0.0|\n",
            "+--------------------+-----------------+--------------------+--------------------+----------+\n",
            "only showing top 20 rows\n",
            "\n"
          ]
        }
      ]
    },
    {
      "cell_type": "code",
      "source": [
        "eval = BinaryClassificationEvaluator(rawPredictionCol='prediction', labelCol='status_type_video')"
      ],
      "metadata": {
        "id": "CR9eyhsICF5Y"
      },
      "execution_count": 143,
      "outputs": []
    },
    {
      "cell_type": "code",
      "source": [
        "auc = eval.evaluate(pred_labels.predictions)"
      ],
      "metadata": {
        "id": "y-hdUXZJCh-Y"
      },
      "execution_count": 144,
      "outputs": []
    },
    {
      "cell_type": "code",
      "source": [
        "auc"
      ],
      "metadata": {
        "colab": {
          "base_uri": "https://localhost:8080/"
        },
        "id": "981yXh09CywS",
        "outputId": "b607cea6-0868-47ba-cd8e-715e16dbff58"
      },
      "execution_count": 145,
      "outputs": [
        {
          "output_type": "execute_result",
          "data": {
            "text/plain": [
              "1.0"
            ]
          },
          "metadata": {},
          "execution_count": 145
        }
      ]
    },
    {
      "cell_type": "code",
      "source": [],
      "metadata": {
        "id": "8wIvuZPjC0em"
      },
      "execution_count": null,
      "outputs": []
    }
  ]
}